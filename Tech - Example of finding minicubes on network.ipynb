{
 "cells": [
  {
   "cell_type": "code",
   "execution_count": 12,
   "metadata": {
    "collapsed": true
   },
   "outputs": [],
   "source": [
    "import time\n",
    "from six.moves import input\n",
    "from zeroconf import ServiceBrowser, Zeroconf\n",
    "from IPython.utils.capture import capture_output\n",
    "import re"
   ]
  },
  {
   "cell_type": "code",
   "execution_count": 13,
   "metadata": {
    "collapsed": true
   },
   "outputs": [],
   "source": [
    "class MinicubeListener:\n",
    "    def remove_service(self, zeroc, type, name):\n",
    "        print('Service %s removed' % (name,))\n",
    "\n",
    "    def add_service(self, zeroc, type, name):\n",
    "        info = zeroc.get_service_info(type, name)\n",
    "        print('%s' % (name))\n",
    "        cube = Minicube(info.address, info.port)\n",
    "        cubes.append(cube)"
   ]
  },
  {
   "cell_type": "code",
   "execution_count": 14,
   "metadata": {
    "collapsed": true
   },
   "outputs": [],
   "source": [
    "def scan_network():\n",
    "        zeroconf = Zeroconf()\n",
    "        listener = MinicubeListener()\n",
    "        with capture_output() as minicubes_on_network:\n",
    "            browser = ServiceBrowser(zeroconf, '_gnacode-pcr._tcp.local.', listener)\n",
    "            time.sleep(10)\n",
    "        browser.cancel()\n",
    "        rx = re.compile(\"(?:minicubepcr-|^)[^.]*\")\n",
    "        strmc = str(minicubes_on_network.stdout) \n",
    "        mcp_on_network = rx.findall(strmc)\n",
    "        return mcp_on_network"
   ]
  },
  {
   "cell_type": "code",
   "execution_count": 15,
   "metadata": {},
   "outputs": [],
   "source": [
    "retrieve_network_info=scan_network"
   ]
  },
  {
   "cell_type": "code",
   "execution_count": 16,
   "metadata": {},
   "outputs": [
    {
     "name": "stdout",
     "output_type": "stream",
     "text": [
      "['minicubepcr-000024']\n"
     ]
    }
   ],
   "source": [
    "mcp_on_network = retrieve_network_info()                         #list all minicubes on the network\n",
    "print mcp_on_network "
   ]
  },
  {
   "cell_type": "code",
   "execution_count": null,
   "metadata": {
    "collapsed": true
   },
   "outputs": [],
   "source": []
  }
 ],
 "metadata": {
  "kernelspec": {
   "display_name": "Python 2",
   "language": "python",
   "name": "python2"
  },
  "language_info": {
   "codemirror_mode": {
    "name": "ipython",
    "version": 2
   },
   "file_extension": ".py",
   "mimetype": "text/x-python",
   "name": "python",
   "nbconvert_exporter": "python",
   "pygments_lexer": "ipython2",
   "version": "2.7.14"
  }
 },
 "nbformat": 4,
 "nbformat_minor": 2
}
