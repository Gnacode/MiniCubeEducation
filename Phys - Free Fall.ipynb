{
 "cells": [
  {
   "cell_type": "code",
   "execution_count": 1,
   "metadata": {
    "collapsed": true
   },
   "outputs": [],
   "source": [
    "from pandas.plotting import table\n",
    "import numpy as np\n",
    "import pandas as pd\n",
    "import matplotlib.pyplot as plt\n",
    "import math\n",
    "%matplotlib inline"
   ]
  },
  {
   "cell_type": "code",
   "execution_count": 4,
   "metadata": {},
   "outputs": [],
   "source": [
    "data = np.zeros(shape=(11 ,4))\n",
    "df = pd.DataFrame(data)\n",
    "df.columns = ['t','v', 's', 'v^2']\n",
    "#Formula V = t x g  , g = 9.82 m/sec²\n",
    "g = 9.780\n",
    "v_0 = 0\n",
    "\n",
    "for i, t in enumerate(np.arange(0, 11, 1)):\n",
    "    df['t'][i] = t\n",
    "    df['v'][i] = v_0 + t * g\n",
    "    df['s'][i] = v_0 * t + 0.5 * g * t*t\n",
    "    df['v^2'][i] = v_0*v_0 + 2 * g * df['s'][i]"
   ]
  },
  {
   "cell_type": "code",
   "execution_count": 6,
   "metadata": {},
   "outputs": [
    {
     "data": {
      "text/html": [
       "<div>\n",
       "<style>\n",
       "    .dataframe thead tr:only-child th {\n",
       "        text-align: right;\n",
       "    }\n",
       "\n",
       "    .dataframe thead th {\n",
       "        text-align: left;\n",
       "    }\n",
       "\n",
       "    .dataframe tbody tr th {\n",
       "        vertical-align: top;\n",
       "    }\n",
       "</style>\n",
       "<table border=\"1\" class=\"dataframe\">\n",
       "  <thead>\n",
       "    <tr style=\"text-align: right;\">\n",
       "      <th></th>\n",
       "      <th>0</th>\n",
       "      <th>1</th>\n",
       "      <th>2</th>\n",
       "      <th>3</th>\n",
       "      <th>4</th>\n",
       "      <th>5</th>\n",
       "      <th>6</th>\n",
       "      <th>7</th>\n",
       "      <th>8</th>\n",
       "      <th>9</th>\n",
       "      <th>10</th>\n",
       "    </tr>\n",
       "  </thead>\n",
       "  <tbody>\n",
       "    <tr>\n",
       "      <th>t</th>\n",
       "      <td>0.0</td>\n",
       "      <td>1.0000</td>\n",
       "      <td>2.0000</td>\n",
       "      <td>3.0000</td>\n",
       "      <td>4.0000</td>\n",
       "      <td>5.00</td>\n",
       "      <td>6.0000</td>\n",
       "      <td>7.0000</td>\n",
       "      <td>8.0000</td>\n",
       "      <td>9.0000</td>\n",
       "      <td>10.00</td>\n",
       "    </tr>\n",
       "    <tr>\n",
       "      <th>v</th>\n",
       "      <td>0.0</td>\n",
       "      <td>9.7800</td>\n",
       "      <td>19.5600</td>\n",
       "      <td>29.3400</td>\n",
       "      <td>39.1200</td>\n",
       "      <td>48.90</td>\n",
       "      <td>58.6800</td>\n",
       "      <td>68.4600</td>\n",
       "      <td>78.2400</td>\n",
       "      <td>88.0200</td>\n",
       "      <td>97.80</td>\n",
       "    </tr>\n",
       "    <tr>\n",
       "      <th>s</th>\n",
       "      <td>0.0</td>\n",
       "      <td>4.8900</td>\n",
       "      <td>19.5600</td>\n",
       "      <td>44.0100</td>\n",
       "      <td>78.2400</td>\n",
       "      <td>122.25</td>\n",
       "      <td>176.0400</td>\n",
       "      <td>239.6100</td>\n",
       "      <td>312.9600</td>\n",
       "      <td>396.0900</td>\n",
       "      <td>489.00</td>\n",
       "    </tr>\n",
       "    <tr>\n",
       "      <th>v^2</th>\n",
       "      <td>0.0</td>\n",
       "      <td>95.6484</td>\n",
       "      <td>382.5936</td>\n",
       "      <td>860.8356</td>\n",
       "      <td>1530.3744</td>\n",
       "      <td>2391.21</td>\n",
       "      <td>3443.3424</td>\n",
       "      <td>4686.7716</td>\n",
       "      <td>6121.4976</td>\n",
       "      <td>7747.5204</td>\n",
       "      <td>9564.84</td>\n",
       "    </tr>\n",
       "  </tbody>\n",
       "</table>\n",
       "</div>"
      ],
      "text/plain": [
       "      0        1         2         3          4        5          6   \\\n",
       "t    0.0   1.0000    2.0000    3.0000     4.0000     5.00     6.0000   \n",
       "v    0.0   9.7800   19.5600   29.3400    39.1200    48.90    58.6800   \n",
       "s    0.0   4.8900   19.5600   44.0100    78.2400   122.25   176.0400   \n",
       "v^2  0.0  95.6484  382.5936  860.8356  1530.3744  2391.21  3443.3424   \n",
       "\n",
       "            7          8          9        10  \n",
       "t       7.0000     8.0000     9.0000    10.00  \n",
       "v      68.4600    78.2400    88.0200    97.80  \n",
       "s     239.6100   312.9600   396.0900   489.00  \n",
       "v^2  4686.7716  6121.4976  7747.5204  9564.84  "
      ]
     },
     "execution_count": 6,
     "metadata": {},
     "output_type": "execute_result"
    }
   ],
   "source": [
    "df.T"
   ]
  },
  {
   "cell_type": "code",
   "execution_count": 8,
   "metadata": {},
   "outputs": [
    {
     "data": {
      "text/plain": [
       "[Text(0,0.5,u'Distance m')]"
      ]
     },
     "execution_count": 8,
     "metadata": {},
     "output_type": "execute_result"
    },
    {
     "data": {
      "image/png": "[encoded data removed]",
      "text/plain": [
       "<matplotlib.figure.Figure at 0xd51fcf8>"
      ]
     },
     "metadata": {},
     "output_type": "display_data"
    }
   ],
   "source": [
    "ax1 = df.plot(kind='scatter', x='t', y='v', secondary_y=True, color='r', legend=True, s=100, figsize=(10,10), title='Free Fall')\n",
    "ax1.set(xlabel='Time sec', ylabel='Velocity m/s')\n",
    "ax2 = ax1.twinx()\n",
    "ax2 = df.plot(kind='scatter', x='t', y='s', secondary_y=False, color='g', s=100, ax=ax2) \n",
    "ax2.set(ylabel='Distance m')\n"
   ]
  },
  {
   "cell_type": "code",
   "execution_count": null,
   "metadata": {
    "collapsed": true
   },
   "outputs": [],
   "source": []
  }
 ],
 "metadata": {
  "kernelspec": {
   "display_name": "Python 2",
   "language": "python",
   "name": "python2"
  },
  "language_info": {
   "codemirror_mode": {
    "name": "ipython",
    "version": 2
   },
   "file_extension": ".py",
   "mimetype": "text/x-python",
   "name": "python",
   "nbconvert_exporter": "python",
   "pygments_lexer": "ipython2",
   "version": "2.7.14"
  }
 },
 "nbformat": 4,
 "nbformat_minor": 2
}
